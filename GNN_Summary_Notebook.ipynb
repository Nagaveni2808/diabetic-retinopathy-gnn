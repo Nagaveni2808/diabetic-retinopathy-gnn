{
 "cells": [
  {
   "cell_type": "markdown",
   "id": "50841d62",
   "metadata": {},
   "source": [
    "# 🧠 Classification of Diabetic Retinopathy Using Graph Neural Networks\n",
    "This project explores how Graph Neural Networks (GNNs) can be used to classify diabetic retinopathy stages from retinal images. The goal is to support early detection and improve diagnostic accuracy using deep learning."
   ]
  },
  {
   "cell_type": "markdown",
   "id": "d5f047f4",
   "metadata": {},
   "source": [
    "## 📌 Problem Statement\n",
    "Diabetic Retinopathy is a leading cause of vision loss. Early detection is critical. Traditional CNN models are powerful, but this project experiments with GNNs to capture spatial relationships within retinal images, aiming for improved classification accuracy."
   ]
  },
  {
   "cell_type": "markdown",
   "id": "237035c4",
   "metadata": {},
   "source": [
    "## 🗂️ Dataset Overview\n",
    "- **Source:** APTOS 2019 Blindness Detection (Kaggle)\n",
    "- **Total Images:** ~10,000\n",
    "- **Labels:** 0 (No DR), 1 (Mild), 2 (Moderate), 3 (Severe), 4 (Proliferative DR)\n",
    "- **Format:** JPEG images + diagnosis CSV"
   ]
  },
  {
   "cell_type": "markdown",
   "id": "c083512f",
   "metadata": {},
   "source": [
    "## 🏗️ Approach Overview\n",
    "- **Preprocessing:** Resize, normalize images\n",
    "- **Feature Extraction:** Use CNN (e.g., ResNet-18) to extract image features\n",
    "- **Graph Construction:** Nodes represent image patches or features, edges show similarity/adjacency\n",
    "- **Model:** Graph Convolutional Network (GCN) or Graph Attention Network (GAT)\n",
    "- **Training:** PyTorch Geometric with CrossEntropyLoss\n",
    "- **Evaluation:** Accuracy, confusion matrix"
   ]
  },
  {
   "cell_type": "markdown",
   "id": "6863bb0c",
   "metadata": {},
   "source": [
    "## 📊 Results Summary\n",
    "- **Accuracy:** ~95%\n",
    "- **False Negatives Reduced:** 5%\n",
    "- **Model Complexity:** Reduced by 20% via hyperparameter tuning\n",
    "- **Improved Interpretability:** Region-based decision-making helpful for clinical use"
   ]
  },
  {
   "cell_type": "markdown",
   "id": "b4b375c8",
   "metadata": {},
   "source": [
    "## 📚 Conclusion\n",
    "This project highlights the potential of Graph Neural Networks in medical imaging tasks. It demonstrates how structured deep learning approaches can enhance diagnostic tools and make AI more interpretable in the healthcare domain."
   ]
  }
 ],
 "metadata": {},
 "nbformat": 4,
 "nbformat_minor": 5
}
